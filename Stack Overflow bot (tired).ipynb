{
 "cells": [
  {
   "cell_type": "code",
   "execution_count": 1,
   "id": "8d907c31-9e71-4f62-ac1b-b9c1620bcea4",
   "metadata": {},
   "outputs": [],
   "source": [
    "import requests"
   ]
  },
  {
   "cell_type": "code",
   "execution_count": 62,
   "id": "abb246d6-1574-4e31-93f9-b2b060cbda8c",
   "metadata": {},
   "outputs": [],
   "source": [
    "from telegram.ext.updater import Updater\n",
    "from telegram.update import Update\n",
    "from telegram.ext.callbackcontext import CallbackContext\n",
    "from telegram.ext.commandhandler import CommandHandler\n",
    "from telegram.ext.messagehandler import MessageHandler\n",
    "from telegram.ext.filters import Filters"
   ]
  },
  {
   "cell_type": "code",
   "execution_count": 68,
   "id": "084bf59b-ea60-45e5-9143-9b05e5350a0f",
   "metadata": {},
   "outputs": [],
   "source": [
    "updater = Updater(\"5160203632:AAFCzlaJanMXXg-hKlPuJU4b6ZMzupSiKB0\",\n",
    "\t\t\t\tuse_context=True)\n",
    "\n",
    "\n",
    "def start(update: Update, context: CallbackContext):\n",
    "\tupdate.message.reply_text(\n",
    "\t\t\"Hey! This is Sriram.  Welcome to my Bot \\n Please write\\\n",
    "        /help to see the commands available.\")"
   ]
  },
  {
   "cell_type": "code",
   "execution_count": 69,
   "id": "a147a8eb-f2c1-4f60-894e-3837587e0de7",
   "metadata": {},
   "outputs": [],
   "source": [
    "def help(update: Update, context: CallbackContext):\n",
    "\tupdate.message.reply_text(\"You'll get the help soon\\n\"\n",
    "    \"\"\"Available Commands :-\n",
    "    /youtube - To get the youtube URL\n",
    "    /linkedin - To get the LinkedIn profile URL\n",
    "    /gmail - To get gmail URL\"\"\")"
   ]
  },
  {
   "cell_type": "code",
   "execution_count": 70,
   "id": "1741e0b6-67ed-4921-9707-9595bb7019de",
   "metadata": {},
   "outputs": [],
   "source": [
    "def gmail_url(update: Update, context: CallbackContext):\n",
    "    update.message.reply_text(\n",
    "        \"srirammurali99@gmail.com\")\n",
    "\n",
    "    \n",
    "def youtube_url(update: Update, context: CallbackContext):\n",
    "    update.message.reply_text(\"Youtube Link =>\\\n",
    "    https://www.youtube.com/\")\n",
    "\n",
    "def linkedIn_url(update: Update, context: CallbackContext):\n",
    "    update.message.reply_text(\n",
    "        \"LinkedIn URL => \\\n",
    "        https://www.linkedin.com/in/srirammurali99\")\n",
    "  \n",
    "  \n",
    "def unknown(update: Update, context: CallbackContext):\n",
    "    update.message.reply_text(\n",
    "        \"Sorry '%s' is not a valid command\" % update.message.text)\n",
    "  \n",
    "  \n",
    "def unknown_text(update: Update, context: CallbackContext):\n",
    "    update.message.reply_text(\n",
    "        \"Sorry I can't recognize you , you said '%s'\" % update.message.text)"
   ]
  },
  {
   "cell_type": "code",
   "execution_count": 71,
   "id": "136e3322-98f7-4dca-abc0-14cee6f093bd",
   "metadata": {},
   "outputs": [
    {
     "data": {
      "text/plain": [
       "<queue.Queue at 0x7fcea8e43be0>"
      ]
     },
     "execution_count": 71,
     "metadata": {},
     "output_type": "execute_result"
    },
    {
     "name": "stderr",
     "output_type": "stream",
     "text": [
      "No error handlers are registered, logging exception.\n",
      "Traceback (most recent call last):\n",
      "  File \"/home/srirammurali/.local/lib/python3.8/site-packages/telegram/ext/dispatcher.py\", line 555, in process_update\n",
      "    handler.handle_update(update, self, check, context)\n",
      "  File \"/home/srirammurali/.local/lib/python3.8/site-packages/telegram/ext/handler.py\", line 198, in handle_update\n",
      "    return self.callback(update, context)\n",
      "  File \"/tmp/ipykernel_10506/2075525569.py\", line 17, in unknown\n",
      "    update.message.reply_text(\n",
      "  File \"/home/srirammurali/.local/lib/python3.8/site-packages/telegram/message.py\", line 791, in reply_text\n",
      "    return self.bot.send_message(\n",
      "  File \"/home/srirammurali/.local/lib/python3.8/site-packages/telegram/bot.py\", line 130, in decorator\n",
      "    result = func(*args, **kwargs)\n",
      "  File \"/home/srirammurali/.local/lib/python3.8/site-packages/telegram/bot.py\", line 522, in send_message\n",
      "    return self._message(  # type: ignore[return-value]\n",
      "  File \"/home/srirammurali/.local/lib/python3.8/site-packages/telegram/ext/extbot.py\", line 200, in _message\n",
      "    result = super()._message(\n",
      "  File \"/home/srirammurali/.local/lib/python3.8/site-packages/telegram/bot.py\", line 336, in _message\n",
      "    result = self._post(endpoint, data, timeout=timeout, api_kwargs=api_kwargs)\n",
      "  File \"/home/srirammurali/.local/lib/python3.8/site-packages/telegram/bot.py\", line 295, in _post\n",
      "    return self.request.post(\n",
      "  File \"/home/srirammurali/.local/lib/python3.8/site-packages/telegram/utils/request.py\", line 361, in post\n",
      "    result = self._request_wrapper(\n",
      "  File \"/home/srirammurali/.local/lib/python3.8/site-packages/telegram/utils/request.py\", line 272, in _request_wrapper\n",
      "    message = str(self._parse(resp.data))\n",
      "  File \"/home/srirammurali/.local/lib/python3.8/site-packages/telegram/utils/request.py\", line 227, in _parse\n",
      "    raise ChatMigrated(migrate_to_chat_id)\n",
      "telegram.error.ChatMigrated: Group migrated to supergroup. New chat id: -1001754564681\n",
      "No error handlers are registered, logging exception.\n",
      "Traceback (most recent call last):\n",
      "  File \"/home/srirammurali/.local/lib/python3.8/site-packages/telegram/ext/dispatcher.py\", line 555, in process_update\n",
      "    handler.handle_update(update, self, check, context)\n",
      "  File \"/home/srirammurali/.local/lib/python3.8/site-packages/telegram/ext/handler.py\", line 198, in handle_update\n",
      "    return self.callback(update, context)\n",
      "  File \"/tmp/ipykernel_10506/2075525569.py\", line 17, in unknown\n",
      "    update.message.reply_text(\n",
      "  File \"/home/srirammurali/.local/lib/python3.8/site-packages/telegram/message.py\", line 791, in reply_text\n",
      "    return self.bot.send_message(\n",
      "  File \"/home/srirammurali/.local/lib/python3.8/site-packages/telegram/bot.py\", line 130, in decorator\n",
      "    result = func(*args, **kwargs)\n",
      "  File \"/home/srirammurali/.local/lib/python3.8/site-packages/telegram/bot.py\", line 522, in send_message\n",
      "    return self._message(  # type: ignore[return-value]\n",
      "  File \"/home/srirammurali/.local/lib/python3.8/site-packages/telegram/ext/extbot.py\", line 200, in _message\n",
      "    result = super()._message(\n",
      "  File \"/home/srirammurali/.local/lib/python3.8/site-packages/telegram/bot.py\", line 336, in _message\n",
      "    result = self._post(endpoint, data, timeout=timeout, api_kwargs=api_kwargs)\n",
      "  File \"/home/srirammurali/.local/lib/python3.8/site-packages/telegram/bot.py\", line 295, in _post\n",
      "    return self.request.post(\n",
      "  File \"/home/srirammurali/.local/lib/python3.8/site-packages/telegram/utils/request.py\", line 361, in post\n",
      "    result = self._request_wrapper(\n",
      "  File \"/home/srirammurali/.local/lib/python3.8/site-packages/telegram/utils/request.py\", line 272, in _request_wrapper\n",
      "    message = str(self._parse(resp.data))\n",
      "  File \"/home/srirammurali/.local/lib/python3.8/site-packages/telegram/utils/request.py\", line 227, in _parse\n",
      "    raise ChatMigrated(migrate_to_chat_id)\n",
      "telegram.error.ChatMigrated: Group migrated to supergroup. New chat id: -1001754564681\n",
      "No error handlers are registered, logging exception.\n",
      "Traceback (most recent call last):\n",
      "  File \"/home/srirammurali/.local/lib/python3.8/site-packages/telegram/ext/dispatcher.py\", line 555, in process_update\n",
      "    handler.handle_update(update, self, check, context)\n",
      "  File \"/home/srirammurali/.local/lib/python3.8/site-packages/telegram/ext/handler.py\", line 198, in handle_update\n",
      "    return self.callback(update, context)\n",
      "  File \"/tmp/ipykernel_10506/2075525569.py\", line 17, in unknown\n",
      "    update.message.reply_text(\n",
      "  File \"/home/srirammurali/.local/lib/python3.8/site-packages/telegram/message.py\", line 791, in reply_text\n",
      "    return self.bot.send_message(\n",
      "  File \"/home/srirammurali/.local/lib/python3.8/site-packages/telegram/bot.py\", line 130, in decorator\n",
      "    result = func(*args, **kwargs)\n",
      "  File \"/home/srirammurali/.local/lib/python3.8/site-packages/telegram/bot.py\", line 522, in send_message\n",
      "    return self._message(  # type: ignore[return-value]\n",
      "  File \"/home/srirammurali/.local/lib/python3.8/site-packages/telegram/ext/extbot.py\", line 200, in _message\n",
      "    result = super()._message(\n",
      "  File \"/home/srirammurali/.local/lib/python3.8/site-packages/telegram/bot.py\", line 336, in _message\n",
      "    result = self._post(endpoint, data, timeout=timeout, api_kwargs=api_kwargs)\n",
      "  File \"/home/srirammurali/.local/lib/python3.8/site-packages/telegram/bot.py\", line 295, in _post\n",
      "    return self.request.post(\n",
      "  File \"/home/srirammurali/.local/lib/python3.8/site-packages/telegram/utils/request.py\", line 361, in post\n",
      "    result = self._request_wrapper(\n",
      "  File \"/home/srirammurali/.local/lib/python3.8/site-packages/telegram/utils/request.py\", line 272, in _request_wrapper\n",
      "    message = str(self._parse(resp.data))\n",
      "  File \"/home/srirammurali/.local/lib/python3.8/site-packages/telegram/utils/request.py\", line 227, in _parse\n",
      "    raise ChatMigrated(migrate_to_chat_id)\n",
      "telegram.error.ChatMigrated: Group migrated to supergroup. New chat id: -1001754564681\n",
      "Error while getting Updates: Conflict: terminated by other getUpdates request; make sure that only one bot instance is running\n",
      "No error handlers are registered, logging exception.\n",
      "Traceback (most recent call last):\n",
      "  File \"/home/srirammurali/.local/lib/python3.8/site-packages/telegram/ext/updater.py\", line 646, in _network_loop_retry\n",
      "    if not action_cb():\n",
      "  File \"/home/srirammurali/.local/lib/python3.8/site-packages/telegram/ext/updater.py\", line 597, in polling_action_cb\n",
      "    updates = self.bot.get_updates(\n",
      "  File \"/home/srirammurali/.local/lib/python3.8/site-packages/telegram/ext/extbot.py\", line 224, in get_updates\n",
      "    updates = super().get_updates(\n",
      "  File \"/home/srirammurali/.local/lib/python3.8/site-packages/telegram/bot.py\", line 130, in decorator\n",
      "    result = func(*args, **kwargs)\n",
      "  File \"/home/srirammurali/.local/lib/python3.8/site-packages/telegram/bot.py\", line 3054, in get_updates\n",
      "    self._post(\n",
      "  File \"/home/srirammurali/.local/lib/python3.8/site-packages/telegram/bot.py\", line 295, in _post\n",
      "    return self.request.post(\n",
      "  File \"/home/srirammurali/.local/lib/python3.8/site-packages/telegram/utils/request.py\", line 361, in post\n",
      "    result = self._request_wrapper(\n",
      "  File \"/home/srirammurali/.local/lib/python3.8/site-packages/telegram/utils/request.py\", line 283, in _request_wrapper\n",
      "    raise Conflict(message)\n",
      "telegram.error.Conflict: Conflict: terminated by other getUpdates request; make sure that only one bot instance is running\n"
     ]
    }
   ],
   "source": [
    "updater.dispatcher.add_handler(CommandHandler('start', start))\n",
    "updater.dispatcher.add_handler(CommandHandler('youtube', youtube_url))\n",
    "updater.dispatcher.add_handler(CommandHandler('help', help))\n",
    "updater.dispatcher.add_handler(CommandHandler('linkedin', linkedIn_url))\n",
    "updater.dispatcher.add_handler(CommandHandler('gmail', gmail_url))\n",
    "updater.dispatcher.add_handler(MessageHandler(Filters.text, unknown))\n",
    "updater.dispatcher.add_handler(MessageHandler(\n",
    "    Filters.command, unknown))  # Filters out unknown commands\n",
    "  \n",
    "# Filters out unknown messages.\n",
    "updater.dispatcher.add_handler(MessageHandler(Filters.text, unknown_text))\n",
    "updater.start_polling()"
   ]
  },
  {
   "cell_type": "code",
   "execution_count": 77,
   "id": "9f76d39a-8966-4114-a907-2e0cc027c9a6",
   "metadata": {},
   "outputs": [
    {
     "name": "stderr",
     "output_type": "stream",
     "text": [
      "Error while getting Updates: Conflict: terminated by other getUpdates request; make sure that only one bot instance is running\n",
      "No error handlers are registered, logging exception.\n",
      "Traceback (most recent call last):\n",
      "  File \"/home/srirammurali/.local/lib/python3.8/site-packages/telegram/ext/updater.py\", line 646, in _network_loop_retry\n",
      "    if not action_cb():\n",
      "  File \"/home/srirammurali/.local/lib/python3.8/site-packages/telegram/ext/updater.py\", line 597, in polling_action_cb\n",
      "    updates = self.bot.get_updates(\n",
      "  File \"/home/srirammurali/.local/lib/python3.8/site-packages/telegram/ext/extbot.py\", line 224, in get_updates\n",
      "    updates = super().get_updates(\n",
      "  File \"/home/srirammurali/.local/lib/python3.8/site-packages/telegram/bot.py\", line 130, in decorator\n",
      "    result = func(*args, **kwargs)\n",
      "  File \"/home/srirammurali/.local/lib/python3.8/site-packages/telegram/bot.py\", line 3054, in get_updates\n",
      "    self._post(\n",
      "  File \"/home/srirammurali/.local/lib/python3.8/site-packages/telegram/bot.py\", line 295, in _post\n",
      "    return self.request.post(\n",
      "  File \"/home/srirammurali/.local/lib/python3.8/site-packages/telegram/utils/request.py\", line 361, in post\n",
      "    result = self._request_wrapper(\n",
      "  File \"/home/srirammurali/.local/lib/python3.8/site-packages/telegram/utils/request.py\", line 283, in _request_wrapper\n",
      "    raise Conflict(message)\n",
      "telegram.error.Conflict: Conflict: terminated by other getUpdates request; make sure that only one bot instance is running\n"
     ]
    },
    {
     "name": "stdout",
     "output_type": "stream",
     "text": [
      "{'ok': False, 'error_code': 409, 'description': 'Conflict: terminated by other getUpdates request; make sure that only one bot instance is running'}\n"
     ]
    }
   ],
   "source": [
    "#response = requests.get(\"https://api.telegram.org/bot5167710498:AAFSF9Aq4PWaEo_riISPLMJsO2zOAOcHC68/getUpdates\")\n",
    "#print(response.text)\n",
    "#print(text)\n",
    "\n",
    "base_url = \"https://api.telegram.org/bot5160203632:AAFCzlaJanMXXg-hKlPuJU4b6ZMzupSiKB0/getUpdates\"\n",
    "parameters = {\n",
    "    \"offset\" : \"515028301\"\n",
    "}\n",
    "resp = requests.get(base_url)\n",
    "print(resp.json())"
   ]
  },
  {
   "cell_type": "code",
   "execution_count": null,
   "id": "a5662b9b-998e-4906-8eb4-67fa6116d69d",
   "metadata": {},
   "outputs": [],
   "source": []
  }
 ],
 "metadata": {
  "kernelspec": {
   "display_name": "Python 3 (ipykernel)",
   "language": "python",
   "name": "python3"
  },
  "language_info": {
   "codemirror_mode": {
    "name": "ipython",
    "version": 3
   },
   "file_extension": ".py",
   "mimetype": "text/x-python",
   "name": "python",
   "nbconvert_exporter": "python",
   "pygments_lexer": "ipython3",
   "version": "3.8.10"
  }
 },
 "nbformat": 4,
 "nbformat_minor": 5
}
