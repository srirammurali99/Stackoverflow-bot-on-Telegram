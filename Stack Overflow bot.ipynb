{
 "cells": [
  {
   "cell_type": "code",
   "execution_count": null,
   "id": "bbafc5e6-0a99-4131-a4de-c87dfea9b765",
   "metadata": {},
   "outputs": [],
   "source": []
  },
  {
   "cell_type": "code",
   "execution_count": 67,
   "id": "dfd3b561-6d79-4fba-bb8f-b2834ad1556d",
   "metadata": {},
   "outputs": [],
   "source": [
    "from telegram.ext.updater import Updater\n",
    "from telegram.update import Update\n",
    "from telegram.ext.callbackcontext import CallbackContext\n",
    "from telegram.ext.commandhandler import CommandHandler\n",
    "from telegram.ext.messagehandler import MessageHandler\n",
    "from telegram.ext.filters import Filters\n",
    "import telegram"
   ]
  },
  {
   "cell_type": "code",
   "execution_count": 68,
   "id": "686c7922-d341-4d31-8473-d788a778e1fc",
   "metadata": {},
   "outputs": [],
   "source": [
    "message = \" \""
   ]
  },
  {
   "cell_type": "code",
   "execution_count": 90,
   "id": "54a6dc7f-7ca8-42d0-85f2-9a668998371b",
   "metadata": {},
   "outputs": [],
   "source": [
    "updater = Updater(\"5160203632:AAFCzlaJanMXXg-hKlPuJU4b6ZMzupSiKB0\",\n",
    "\t\t\t\tuse_context=True)\n",
    "\n",
    "\n",
    "def start(update: Update, context: CallbackContext):\n",
    "\tupdate.message.reply_text(\n",
    "\t\t\"Hey! This is Sriram.  Welcome to my Bot \\nPlease write\\\n",
    "        /help to see the commands available.\")"
   ]
  },
  {
   "cell_type": "code",
   "execution_count": 91,
   "id": "c541f2d3-920a-4ed3-90d9-81264a402069",
   "metadata": {},
   "outputs": [],
   "source": [
    "def help(update: Update, context: CallbackContext):\n",
    "\tupdate.message.reply_text(\"You'll get the help soon\\n\"\n",
    "    \"\"\"Available Commands :-\n",
    "    /youtube - To get the youtube URL\n",
    "    /linkedin - To get the LinkedIn profile URL\n",
    "    /gmail - To get gmail URL\"\"\")"
   ]
  },
  {
   "cell_type": "code",
   "execution_count": 92,
   "id": "d14643db-5ae7-405a-8ec6-3ed76f6ae094",
   "metadata": {},
   "outputs": [],
   "source": [
    "def gmail_url(update: Update, context: CallbackContext):\n",
    "    update.message.reply_text(\n",
    "        \"srirammurali99@gmail.com\")\n",
    "\n",
    "    \n",
    "def youtube_url(update: Update, context: CallbackContext):\n",
    "    update.message.reply_text(\"Youtube Link =>\\\n",
    "    https://www.youtube.com/\")\n",
    "\n",
    "def linkedIn_url(update: Update, context: CallbackContext):\n",
    "    update.message.reply_text(\n",
    "        \"LinkedIn URL => \\\n",
    "        https://www.linkedin.com/in/srirammurali99\")\n",
    "\n",
    "\n",
    "#def unknown(update: Update, context: CallbackContext):\n",
    "#    update.message.reply_text(\n",
    "#        \"Sorry '%s' is not a valid command\" % update.message.text[1:])\n",
    "\n",
    "\n",
    "def unknown(update: Update, context: CallbackContext):\n",
    "    #if((update.message.text) == 'How are you' or 'How are you?'):\n",
    "    #    update.message.reply_text(\"Doing good! How are you doing?\")\n",
    "    #else:\n",
    "        update.message.reply_text(\" %s \" % update.message.text)\n",
    "\n",
    "\n",
    "def unknown_text(update: Update, context: CallbackContext):\n",
    "    update.message.reply_text(\n",
    "        \"Sorry I can't recognize you , you said '%s'\" % update.message.text)"
   ]
  },
  {
   "cell_type": "code",
   "execution_count": 93,
   "id": "675a5712-8d3b-4285-8f33-433b66c915f1",
   "metadata": {},
   "outputs": [
    {
     "data": {
      "text/plain": [
       "<queue.Queue at 0x7f930035ba90>"
      ]
     },
     "execution_count": 93,
     "metadata": {},
     "output_type": "execute_result"
    }
   ],
   "source": [
    "updater.dispatcher.add_handler(CommandHandler('start', start))\n",
    "updater.dispatcher.add_handler(CommandHandler('youtube', youtube_url))\n",
    "updater.dispatcher.add_handler(CommandHandler('help', help))\n",
    "updater.dispatcher.add_handler(CommandHandler('linkedin', linkedIn_url))\n",
    "updater.dispatcher.add_handler(CommandHandler('gmail', gmail_url))\n",
    "message = updater.dispatcher.add_handler(MessageHandler(Filters.text, unknown))\n",
    "updater.dispatcher.add_handler(MessageHandler(\n",
    "    Filters.command, unknown))  # Filters out unknown commands\n",
    "  \n",
    "# Filters out unknown messages.\n",
    "updater.dispatcher.add_handler(MessageHandler(Filters.text, unknown_text))\n",
    "  \n",
    "updater.start_polling()"
   ]
  },
  {
   "cell_type": "code",
   "execution_count": 88,
   "id": "42da880f-6405-4885-99d8-db34c8884926",
   "metadata": {},
   "outputs": [
    {
     "name": "stdout",
     "output_type": "stream",
     "text": [
      "None\n"
     ]
    }
   ],
   "source": [
    "print(message)"
   ]
  },
  {
   "cell_type": "code",
   "execution_count": 89,
   "id": "8d95333f-d7bd-4b24-8a41-b904250c0f03",
   "metadata": {},
   "outputs": [],
   "source": [
    "updater.stop()"
   ]
  },
  {
   "cell_type": "code",
   "execution_count": null,
   "id": "f311c01a-b879-4a12-8f32-3dfb84619b54",
   "metadata": {},
   "outputs": [],
   "source": []
  }
 ],
 "metadata": {
  "kernelspec": {
   "display_name": "Python 3 (ipykernel)",
   "language": "python",
   "name": "python3"
  },
  "language_info": {
   "codemirror_mode": {
    "name": "ipython",
    "version": 3
   },
   "file_extension": ".py",
   "mimetype": "text/x-python",
   "name": "python",
   "nbconvert_exporter": "python",
   "pygments_lexer": "ipython3",
   "version": "3.8.10"
  }
 },
 "nbformat": 4,
 "nbformat_minor": 5
}
